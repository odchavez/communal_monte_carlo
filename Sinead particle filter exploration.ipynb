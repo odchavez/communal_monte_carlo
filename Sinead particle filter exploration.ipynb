{
 "cells": [
  {
   "cell_type": "code",
   "execution_count": 1,
   "metadata": {},
   "outputs": [],
   "source": [
    "import time\n",
    "import numpy as np\n",
    "import pandas as pd\n",
    "import matplotlib.pyplot as plt\n",
    "\n",
    "\n",
    "import particle_filter\n",
    "import embarrassingly_parallel\n",
    "import prep_simulation_data\n",
    "import history\n",
    "import params\n",
    "import pf_plots\n",
    "from files_to_process import files_to_process\n",
    "\n",
    "from scipy.special import logsumexp\n",
    "from scipy import stats"
   ]
  },
  {
   "cell_type": "code",
   "execution_count": 2,
   "metadata": {},
   "outputs": [
    {
     "data": {
      "image/png": "[encoded data removed]",
      "text/plain": [
       "<Figure size 432x288 with 1 Axes>"
      ]
     },
     "metadata": {
      "needs_background": "light"
     },
     "output_type": "display_data"
    }
   ],
   "source": [
    "true_betas = np.ones((100, 2))\n",
    "true_betas[:, 0] = np.sin(np.arange(100)/30)\n",
    "true_betas[:, 1] = 0.5*np.cos(np.arange(100)/40)\n",
    "plt.plot(true_betas)\n",
    "plt.show()\n",
    "\n",
    "X = np.random.randn(10000, 2)\n",
    "bX = []\n",
    "t = 0\n",
    "r=0\n",
    "times = []\n",
    "for i in range(10000):\n",
    "    bX.append(np.dot(true_betas[t, :], X[i, :]))\n",
    "    times.append(t)\n",
    "    r+=1\n",
    "    if r == 100:\n",
    "        t += 1\n",
    "        r = 0\n",
    "bX = np.array(bX)\n",
    "times = np.array(times)\n",
    "p = 1./(1+np.exp(bX))\n",
    "y = np.random.binomial(1, p)\n"
   ]
  },
  {
   "cell_type": "code",
   "execution_count": 3,
   "metadata": {},
   "outputs": [],
   "source": [
    "stationary_prior_mean = 0.\n",
    "stationary_prior_std = 1.\n",
    "stepsize=0.1"
   ]
  },
  {
   "cell_type": "code",
   "execution_count": 4,
   "metadata": {},
   "outputs": [],
   "source": [
    "data = {}\n",
    "D = 2\n",
    "data['time_value'] = times\n",
    "data['N'] = len(times)\n",
    "data['b'] = stationary_prior_mean*np.ones((len(times), D))\n",
    "data['B'] = stationary_prior_std\n",
    "data['Tau_inv_std'] = stepsize\n",
    "data['shards'] = 1\n",
    "data['p'] = 2\n",
    "data['X_matrix'] = X\n",
    "data['Y'] = y\n",
    "data['all_shard_unique_time_values'] = np.unique(times)\n"
   ]
  },
  {
   "cell_type": "code",
   "execution_count": 5,
   "metadata": {},
   "outputs": [],
   "source": [
    "params={\n",
    "            'N_batch'            : 1, \n",
    "            'shards'             : 1,\n",
    "            'p_to_use'           : 1000,\n",
    "            'particles_per_shard': 1000,\n",
    "            's_num_before_comm'  : 1000,\n",
    "            'randomize_shards'   : False,\n",
    "            'model'              : 'probit_sin_wave',\n",
    "            'sample_method'      : \"importance\",\n",
    "            'data_type'          : 'simulated',\n",
    "        }\n",
    "class pf_params_synth_data():\n",
    "\n",
    "    def __init__(self, params):\n",
    "        #args.particles_per_shard, args.p_to_use, args.randomize_shards)\n",
    "        M=1\n",
    "        PART_NUM = 1000\n",
    "        COMM_PER_SHARD_INTERVAL = 999999999#number of observations to process per shard before communication step\n",
    "        self.params=params\n",
    "        \n",
    "    def get_params(self):\n",
    "        return(self.params)\n",
    "    \n",
    "    def get_N_batch(self):\n",
    "        return\n",
    "    \n",
    "    def get_shards(self):\n",
    "        return self.params['shards']\n",
    "    \n",
    "    def get_particles_per_shard(self):\n",
    "        return self.params['particles_per_shard']\n",
    "    \n",
    "    def get_model(self):\n",
    "        return self.params['model']\n",
    "    \n",
    "    def get_sample_method(self):\n",
    "        return self.params['sample_method']\n",
    "    \n",
    "    def get_data_type(self):\n",
    "        return self.params['data_type']\n",
    "params_obj = pf_params_synth_data(params)"
   ]
  },
  {
   "cell_type": "code",
   "execution_count": 6,
   "metadata": {},
   "outputs": [],
   "source": [
    "pf = particle_filter.particle_filter(data, params_obj, 1, 1)"
   ]
  },
  {
   "cell_type": "code",
   "execution_count": 7,
   "metadata": {},
   "outputs": [],
   "source": [
    "pf.update_data(data, 1)"
   ]
  },
  {
   "cell_type": "code",
   "execution_count": 8,
   "metadata": {},
   "outputs": [],
   "source": [
    "import time\n",
    "tic = time.time()\n",
    "pf.run_particle_filter()\n",
    "toc = time.time()"
   ]
  },
  {
   "cell_type": "code",
   "execution_count": 9,
   "metadata": {},
   "outputs": [
    {
     "name": "stdout",
     "output_type": "stream",
     "text": [
      "36.574469804763794\n"
     ]
    }
   ],
   "source": [
    "print(toc-tic)"
   ]
  },
  {
   "cell_type": "code",
   "execution_count": 10,
   "metadata": {},
   "outputs": [],
   "source": [
    "def log_sigmoid(x):\n",
    "    return -np.logaddexp(0, -x)\n",
    "\n",
    "def loglik(b, X, y, sigma=None, method='classification', mult_obs=False):\n",
    "    # if method == 'regression', sigma is the standard deviation of the residuals (assumed not learned)\n",
    "    bX = np.dot(b, X.T)\n",
    "    if mult_obs:\n",
    "        ll = np.zeros(b.shape[0])\n",
    "        \n",
    "        for i in range(len(y)):\n",
    "            # re-write, not very efficient\n",
    "            if method == 'classification':\n",
    "                if y[i] == 1:\n",
    "                    ll += log_sigmoid(-1*bX[:, i])\n",
    "                else:\n",
    "                    assert y[i] == 0\n",
    "                    ll += log_sigmoid(bX[:, i])\n",
    "                    \n",
    "            elif method == 'regression':\n",
    "                ll += stats.norm.logpdf(y[i], bX[:, i], sigma)\n",
    "            else:\n",
    "                raise ValueError('{} is not implemented with multiple observations'.format(method))\n",
    "    else:\n",
    "        if method == 'classification':\n",
    "            if y == 1:\n",
    "                ll = log_sigmoid(-1*bX)\n",
    "            else:\n",
    "                assert y == 0\n",
    "                ll = log_sigmoid(bX)\n",
    "        elif method == 'regression':\n",
    "            ll = stats.norm.logpdf(y, bX, sigma)\n",
    "        else:\n",
    "            raise ValueError('{} is not implemented'.format(method))\n",
    "    return ll\n",
    "\n",
    "\n",
    "def sinead_pf(X, y, times, num_particles, b_prior_mean=0., b_prior_std = 1., stepsize=0.05, \n",
    "        save_history=True, sigma=1., method='classification'):\n",
    "    unique_times = np.unique(times)\n",
    "    if len(unique_times) < len(times):\n",
    "        repeat_obs = True\n",
    "    else:\n",
    "        repeat_obs = False\n",
    "    # initialize particles\n",
    "    N, D = X.shape\n",
    "    T = len(unique_times)\n",
    "    if save_history:\n",
    "        history = np.zeros((T, D))\n",
    "    particles = np.random.normal(b_prior_mean, b_prior_std, size=[num_particles, D])\n",
    "    obs_inds = np.argwhere(times==unique_times[0]).squeeze()\n",
    "    ll = loglik(particles, X[obs_inds, :], y[obs_inds], method=method, mult_obs=repeat_obs, sigma=sigma)\n",
    "    log_weights = ll - logsumexp(ll)\n",
    "    \n",
    "    new_inds = np.random.choice(num_particles, num_particles, p=np.exp(log_weights))\n",
    "    particles = particles[new_inds, :]\n",
    "    if save_history:\n",
    "        history[0, :] += np.mean(particles, axis=0)\n",
    "    for j in range(1, len(unique_times)):\n",
    "        timestepsize = stepsize * (unique_times[j]-unique_times[j-1])\n",
    "        rescale_const = b_prior_std / np.sqrt(b_prior_std**2 + timestepsize**2)\n",
    "        particles += np.random.normal(0, stepsize, size=[num_particles, D])\n",
    "        particles = rescale_const * particles\n",
    "        obs_inds = np.argwhere(times==unique_times[j]).squeeze()\n",
    "        ll = loglik(particles, X[obs_inds, :], y[obs_inds], method=method, mult_obs=repeat_obs, sigma=sigma)\n",
    "        log_weights = ll - logsumexp(ll)\n",
    "        new_inds = np.random.choice(num_particles, num_particles, p=np.exp(log_weights))\n",
    "        particles = particles[new_inds, :]\n",
    "        if save_history:\n",
    "            history[j, :] = np.mean(particles, axis=0)\n",
    "\n",
    "    if save_history:\n",
    "        return particles, history\n",
    "    return particles\n",
    "    "
   ]
  },
  {
   "cell_type": "code",
   "execution_count": 11,
   "metadata": {},
   "outputs": [
    {
     "name": "stdout",
     "output_type": "stream",
     "text": [
      "0.3635408878326416\n"
     ]
    },
    {
     "data": {
      "image/png": "[encoded data removed]",
      "text/plain": [
       "<Figure size 432x288 with 1 Axes>"
      ]
     },
     "metadata": {
      "needs_background": "light"
     },
     "output_type": "display_data"
    }
   ],
   "source": [
    "tic = time.time()\n",
    "final_particles, history = sinead_pf(X, y, times, 1000)\n",
    "toc = time.time()\n",
    "print(toc-tic)\n",
    "plt.plot(history)\n",
    "plt.show()"
   ]
  },
  {
   "cell_type": "code",
   "execution_count": 12,
   "metadata": {},
   "outputs": [
    {
     "data": {
      "image/png": "[encoded data removed]",
      "text/plain": [
       "<Figure size 432x288 with 1 Axes>"
      ]
     },
     "metadata": {
      "needs_background": "light"
     },
     "output_type": "display_data"
    }
   ],
   "source": [
    "plt.plot(true_betas)\n",
    "plt.show()"
   ]
  },
  {
   "cell_type": "code",
   "execution_count": null,
   "metadata": {},
   "outputs": [],
   "source": []
  }
 ],
 "metadata": {
  "kernelspec": {
   "display_name": "Python 3",
   "language": "python",
   "name": "python3"
  },
  "language_info": {
   "codemirror_mode": {
    "name": "ipython",
    "version": 3
   },
   "file_extension": ".py",
   "mimetype": "text/x-python",
   "name": "python",
   "nbconvert_exporter": "python",
   "pygments_lexer": "ipython3",
   "version": "3.8.3"
  }
 },
 "nbformat": 4,
 "nbformat_minor": 4
}
